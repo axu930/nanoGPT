{
 "cells": [
  {
   "cell_type": "markdown",
   "metadata": {},
   "source": [
    "Bigram model following Andrej Karpathy's GPT tutorial on Youtube (part 1 of 2). \n",
    "\n",
    "Trained using the full works of H.P. Lovecraft instead of Shakespeare. Unfortunately the txt I found has some artifacts. "
   ]
  },
  {
   "cell_type": "code",
   "execution_count": 60,
   "metadata": {},
   "outputs": [],
   "source": [
    "#imports\n",
    "\n",
    "import torch\n",
    "import torch.nn as nn\n",
    "from torch.nn import functional as F\n",
    "\n",
    "#hyperparameters\n",
    "batch_size = 32 # how many independent sequences will we process in parallel?\n",
    "block_size = 8 # what is the maximum context length for predictions?\n",
    "max_iters = 3000\n",
    "eval_interval = 300\n",
    "learning_rate = 1e-2\n",
    "device = 'cuda' if torch.cuda.is_available() else 'cpu'\n",
    "eval_iters = 200\n",
    "# ------------\n",
    "\n"
   ]
  },
  {
   "cell_type": "code",
   "execution_count": 13,
   "metadata": {},
   "outputs": [
    {
     "name": "stdout",
     "output_type": "stream",
     "text": [
      "['\\n', '\\x0c', ' ', '!', '\"', '#', '&', \"'\", '(', ')', '*', ',', '-', '.', '/', '0', '1', '2', '3', '4', '5', '6', '7', '8', '9', ':', ';', '?', 'A', 'B', 'C', 'D', 'E', 'F', 'G', 'H', 'I', 'J', 'K', 'L', 'M', 'N', 'O', 'P', 'Q', 'R', 'S', 'T', 'U', 'V', 'W', 'X', 'Y', 'Z', '[', ']', 'a', 'b', 'c', 'd', 'e', 'f', 'g', 'h', 'i', 'j', 'k', 'l', 'm', 'n', 'o', 'p', 'q', 'r', 's', 't', 'u', 'v', 'w', 'x', 'y', 'z', '¡', '°', '·', '¿', 'Å', 'Æ', '×', 'á', 'ä', 'æ', 'è', 'é', 'ê', 'ë', 'ï', 'ñ', 'ö', 'ü', 'Ν', 'Ο', 'Π', 'Σ', 'Υ', '–', '—', '―', '‖', '‗', '‘', '’', '”', '•']\n"
     ]
    }
   ],
   "source": [
    "#Processing the input data\n",
    "with open('lovecraft.txt', 'r', encoding = 'utf-8') as f:\n",
    "    text = f.read()\n",
    "\n",
    "chars = sorted(list(set(text)))\n",
    "vocab_size = len(chars)\n"
   ]
  },
  {
   "cell_type": "code",
   "execution_count": 14,
   "metadata": {},
   "outputs": [
    {
     "name": "stdout",
     "output_type": "stream",
     "text": [
      "[35, 60, 67, 67, 70, 2, 78, 70, 73, 67, 59]\n",
      "Hello world!\n"
     ]
    }
   ],
   "source": [
    "#Encoding and decoding functions from strings to list of numbers\n",
    "stoi = {ch:i for i,ch in enumerate(chars)}\n",
    "itos = {i:ch for i,ch in enumerate(chars)}\n",
    "\n",
    "encode = lambda s: [stoi[c] for c in s] #String to list\n",
    "decode = lambda l: \"\".join(itos[i] for i in l) #List to string\n"
   ]
  },
  {
   "cell_type": "code",
   "execution_count": 19,
   "metadata": {},
   "outputs": [],
   "source": [
    "#Wrapping data into a torch tensor\n",
    "data = torch.tensor(encode(text), dtype = torch.long)\n",
    "\n",
    "#Training/validation split; we will use a 95/5 ratio\n",
    "n = int(len(data) * 0.95)\n",
    "train_data = data[:n]\n",
    "val_data = data[n:]\n",
    "\n"
   ]
  },
  {
   "cell_type": "code",
   "execution_count": 39,
   "metadata": {},
   "outputs": [],
   "source": [
    "#Split data into batches and blocks to train \n",
    "\n",
    "def get_batch(split):\n",
    "    data = train_data if split == 'train' else val_data \n",
    "    ix = torch.randint(len(data) - block_size, (batch_size,))\n",
    "    x = torch.stack([data[i:i + block_size] for i in ix]) #context array\n",
    "    y = torch.stack([data[i+1:i + block_size + 1] for i in ix]) #target array\n",
    "    return x,y"
   ]
  },
  {
   "cell_type": "code",
   "execution_count": 25,
   "metadata": {},
   "outputs": [
    {
     "name": "stdout",
     "output_type": "stream",
     "text": [
      "context: tensor([76])\n",
      "target:  tensor(71)\n",
      "context: tensor([76, 71])\n",
      "target:  tensor(2)\n",
      "context: tensor([76, 71,  2])\n",
      "target:  tensor(63)\n",
      "context: tensor([76, 71,  2, 63])\n",
      "target:  tensor(64)\n",
      "context: tensor([76, 71,  2, 63, 64])\n",
      "target:  tensor(74)\n",
      "context: tensor([76, 71,  2, 63, 64, 74])\n",
      "target:  tensor(2)\n",
      "context: tensor([76, 71,  2, 63, 64, 74,  2])\n",
      "target:  tensor(74)\n",
      "context: tensor([76, 71,  2, 63, 64, 74,  2, 74])\n",
      "target:  tensor(67)\n",
      "context: tensor([60])\n",
      "target:  tensor(71)\n",
      "context: tensor([60, 71])\n",
      "target:  tensor(76)\n",
      "context: tensor([60, 71, 76])\n",
      "target:  tensor(75)\n",
      "context: tensor([60, 71, 76, 75])\n",
      "target:  tensor(60)\n",
      "context: tensor([60, 71, 76, 75, 60])\n",
      "target:  tensor(59)\n",
      "context: tensor([60, 71, 76, 75, 60, 59])\n",
      "target:  tensor(2)\n",
      "context: tensor([60, 71, 76, 75, 60, 59,  2])\n",
      "target:  tensor(75)\n",
      "context: tensor([60, 71, 76, 75, 60, 59,  2, 75])\n",
      "target:  tensor(70)\n",
      "context: tensor([57])\n",
      "target:  tensor(67)\n",
      "context: tensor([57, 67])\n",
      "target:  tensor(70)\n",
      "context: tensor([57, 67, 70])\n",
      "target:  tensor(70)\n",
      "context: tensor([57, 67, 70, 70])\n",
      "target:  tensor(59)\n",
      "context: tensor([57, 67, 70, 70, 59])\n",
      "target:  tensor(2)\n",
      "context: tensor([57, 67, 70, 70, 59,  2])\n",
      "target:  tensor(78)\n",
      "context: tensor([57, 67, 70, 70, 59,  2, 78])\n",
      "target:  tensor(56)\n",
      "context: tensor([57, 67, 70, 70, 59,  2, 78, 56])\n",
      "target:  tensor(74)\n",
      "context: tensor([2])\n",
      "target:  tensor(68)\n",
      "context: tensor([ 2, 68])\n",
      "target:  tensor(70)\n",
      "context: tensor([ 2, 68, 70])\n",
      "target:  tensor(73)\n",
      "context: tensor([ 2, 68, 70, 73])\n",
      "target:  tensor(56)\n",
      "context: tensor([ 2, 68, 70, 73, 56])\n",
      "target:  tensor(67)\n",
      "context: tensor([ 2, 68, 70, 73, 56, 67])\n",
      "target:  tensor(2)\n",
      "context: tensor([ 2, 68, 70, 73, 56, 67,  2])\n",
      "target:  tensor(76)\n",
      "context: tensor([ 2, 68, 70, 73, 56, 67,  2, 76])\n",
      "target:  tensor(69)\n"
     ]
    }
   ],
   "source": [
    "xb,yb = get_batch('train')\n",
    "\n",
    "#Sample loader for training data\n",
    "for b in range(batch_size):\n",
    "    for t in range(block_size):\n",
    "        context = xb[b,:t+1]\n",
    "        target = yb[b,t]\n",
    "        print(\"context:\", context)\n",
    "        print(\"target: \", target)\n"
   ]
  },
  {
   "cell_type": "code",
   "execution_count": 61,
   "metadata": {},
   "outputs": [],
   "source": [
    "#Bigram model: using the only the previous character to determine output\n",
    "\n",
    "class BigramLanguageModel(nn.Module):\n",
    "    \n",
    "    def __init__(self):\n",
    "        super().__init__()\n",
    "\n",
    "        self.token_embedding_table = nn.Embedding(vocab_size, vocab_size)\n",
    "\n",
    "    def forward(self, idx, targets=None):\n",
    "        # idx and targets are (B,T) tensors of integers\n",
    "        # logits are (B,T,C) tensors; last coordinate denotes the probability distribution of the next token\n",
    "        \n",
    "        logits = self.token_embedding_table(idx) #(B,T,C)\n",
    "\n",
    "        if targets == None:\n",
    "            loss = None\n",
    "        else:\n",
    "            B, T, C = logits.shape\n",
    "            logits = logits.view(B*T, C)\n",
    "            targets = targets.view(B*T)\n",
    "            loss = F.cross_entropy(logits, targets)\n",
    "\n",
    "        return logits, loss\n",
    "    \n",
    "    def generate(self, idx, max_new_tokens):\n",
    "        # idx is a (B,T) array of indices in current context\n",
    "        for _ in range(max_new_tokens):\n",
    "            logits, loss = self(idx) #Get predictions\n",
    "            logits = logits[:,-1,:] #Take logits for the last time step; (B,C) tensor\n",
    "            probs = F.softmax(logits, dim=-1) #Probabilities for the next token\n",
    "            idx_next = torch.multinomial(probs,num_samples=1) #(B,1) tensor after sampling the next token\n",
    "            idx = torch.cat((idx,idx_next), dim = 1) #Concatenate new token into running sequence, (B,T+1) tensor\n",
    "        return idx\n",
    "\n",
    "    \n",
    "m = BigramLanguageModel()\n",
    "logits, loss = m(xb, yb)\n"
   ]
  },
  {
   "cell_type": "code",
   "execution_count": 53,
   "metadata": {},
   "outputs": [
    {
     "name": "stdout",
     "output_type": "stream",
     "text": [
      "\n",
      "we tpty ts gaw\n",
      "cof\n",
      "silli‘site Y#\fYEng iale, D‘s thandichinunts se angherofole, Th.\n",
      "\f/R&xtle tar t‘s w t,\n",
      "k orin. tstl\n",
      "toorreass.\n",
      "d at. f can. anovicollesin athalycas\n",
      "Alde trsk hefld l st sin win bon needenounereaches tald, H. s, orori, I thaiad buife ggnssphend w. Care ve som heegs, a ant whonssilirk ticergn f rerr festat urdeas s wn Lisqulasureacho ―Fothay g ce imofore d je ff Thedvomabe s ce Ba t fous by ghamesind or, aesinishereczichite.\n",
      "halereron thandencalirinirnvecimill d hinchile Consued \n"
     ]
    }
   ],
   "source": [
    "#Sample text generation\n",
    "\n",
    "idx = torch.zeros((1,1), dtype=torch.long)\n",
    "new_text = m.generate(idx, max_new_tokens=500)[0].tolist()\n",
    "print(decode(new_text))"
   ]
  },
  {
   "cell_type": "code",
   "execution_count": 51,
   "metadata": {},
   "outputs": [
    {
     "name": "stdout",
     "output_type": "stream",
     "text": [
      "2.5186614990234375\n"
     ]
    }
   ],
   "source": [
    "#Gradient descent with PyTorch Adam optimizer\n",
    "\n",
    "optimizer = torch.optim.AdamW(m.parameters(), lr=1e-3)\n",
    "\n",
    "training_steps = 1000\n",
    "for steps in range(training_steps):\n",
    "    #Get training data\n",
    "    xb, yb = get_batch('train')\n",
    "\n",
    "    #Evaluate loss\n",
    "    logits, loss = m(xb, yb)\n",
    "    optimizer.zero_grad(set_to_none=True)\n",
    "    loss.backward()\n",
    "    optimizer.step()\n",
    "print(loss.item())\n"
   ]
  }
 ],
 "metadata": {
  "kernelspec": {
   "display_name": "Python 3",
   "language": "python",
   "name": "python3"
  },
  "language_info": {
   "codemirror_mode": {
    "name": "ipython",
    "version": 3
   },
   "file_extension": ".py",
   "mimetype": "text/x-python",
   "name": "python",
   "nbconvert_exporter": "python",
   "pygments_lexer": "ipython3",
   "version": "3.12.5"
  }
 },
 "nbformat": 4,
 "nbformat_minor": 2
}
